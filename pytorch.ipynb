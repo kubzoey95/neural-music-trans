{
 "cells": [
  {
   "cell_type": "code",
   "execution_count": 1,
   "metadata": {},
   "outputs": [
    {
     "name": "stdout",
     "output_type": "stream",
     "text": [
      "Requirement already satisfied: music21 in /home/jakub/miniconda3/envs/torch/lib/python3.9/site-packages (7.3.3)\n",
      "Requirement already satisfied: matplotlib in /home/jakub/miniconda3/envs/torch/lib/python3.9/site-packages (from music21) (3.5.2)\n",
      "Requirement already satisfied: jsonpickle in /home/jakub/miniconda3/envs/torch/lib/python3.9/site-packages (from music21) (2.2.0)\n",
      "Requirement already satisfied: joblib in /home/jakub/miniconda3/envs/torch/lib/python3.9/site-packages (from music21) (1.1.0)\n",
      "Requirement already satisfied: webcolors>=1.5 in /home/jakub/miniconda3/envs/torch/lib/python3.9/site-packages (from music21) (1.12)\n",
      "Requirement already satisfied: numpy in /home/jakub/miniconda3/envs/torch/lib/python3.9/site-packages (from music21) (1.22.4)\n",
      "Requirement already satisfied: more-itertools in /home/jakub/miniconda3/envs/torch/lib/python3.9/site-packages (from music21) (8.13.0)\n",
      "Requirement already satisfied: chardet in /home/jakub/miniconda3/envs/torch/lib/python3.9/site-packages (from music21) (5.0.0)\n",
      "Requirement already satisfied: pyparsing>=2.2.1 in /home/jakub/miniconda3/envs/torch/lib/python3.9/site-packages (from matplotlib->music21) (3.0.9)\n",
      "Requirement already satisfied: fonttools>=4.22.0 in /home/jakub/miniconda3/envs/torch/lib/python3.9/site-packages (from matplotlib->music21) (4.33.3)\n",
      "Requirement already satisfied: cycler>=0.10 in /home/jakub/miniconda3/envs/torch/lib/python3.9/site-packages (from matplotlib->music21) (0.11.0)\n",
      "Requirement already satisfied: pillow>=6.2.0 in /home/jakub/miniconda3/envs/torch/lib/python3.9/site-packages (from matplotlib->music21) (9.2.0)\n",
      "Requirement already satisfied: python-dateutil>=2.7 in /home/jakub/miniconda3/envs/torch/lib/python3.9/site-packages (from matplotlib->music21) (2.8.2)\n",
      "Requirement already satisfied: kiwisolver>=1.0.1 in /home/jakub/miniconda3/envs/torch/lib/python3.9/site-packages (from matplotlib->music21) (1.4.3)\n",
      "Requirement already satisfied: packaging>=20.0 in /home/jakub/miniconda3/envs/torch/lib/python3.9/site-packages (from matplotlib->music21) (21.3)\n",
      "Requirement already satisfied: six>=1.5 in /home/jakub/miniconda3/envs/torch/lib/python3.9/site-packages (from python-dateutil>=2.7->matplotlib->music21) (1.16.0)\n",
      "Requirement already satisfied: pyblaze in /home/jakub/miniconda3/envs/torch/lib/python3.9/site-packages (2.3.2)\n",
      "Requirement already satisfied: scikit-learn<0.25.0,>=0.23.0 in /home/jakub/miniconda3/envs/torch/lib/python3.9/site-packages (from pyblaze) (0.24.2)\n",
      "Requirement already satisfied: tensorboard<3.0.0,>=2.2.0 in /home/jakub/miniconda3/envs/torch/lib/python3.9/site-packages (from pyblaze) (2.9.1)\n",
      "Requirement already satisfied: numba<1.0.0,>=0.48.0 in /home/jakub/miniconda3/envs/torch/lib/python3.9/site-packages (from pyblaze) (0.55.2)\n",
      "Requirement already satisfied: matplotlib<4.0.0,>=3.0.0 in /home/jakub/miniconda3/envs/torch/lib/python3.9/site-packages (from pyblaze) (3.5.2)\n",
      "Requirement already satisfied: scipy<2.0.0,>=1.4.1 in /home/jakub/miniconda3/envs/torch/lib/python3.9/site-packages (from pyblaze) (1.8.1)\n",
      "Requirement already satisfied: torch<2.0.0,>=1.4.0 in /home/jakub/miniconda3/envs/torch/lib/python3.9/site-packages (from pyblaze) (1.12.0+cu116)\n",
      "Requirement already satisfied: numpy<2.0.0,>=1.18.2 in /home/jakub/miniconda3/envs/torch/lib/python3.9/site-packages (from pyblaze) (1.22.4)\n",
      "Requirement already satisfied: cycler>=0.10 in /home/jakub/miniconda3/envs/torch/lib/python3.9/site-packages (from matplotlib<4.0.0,>=3.0.0->pyblaze) (0.11.0)\n",
      "Requirement already satisfied: fonttools>=4.22.0 in /home/jakub/miniconda3/envs/torch/lib/python3.9/site-packages (from matplotlib<4.0.0,>=3.0.0->pyblaze) (4.33.3)\n",
      "Requirement already satisfied: pillow>=6.2.0 in /home/jakub/miniconda3/envs/torch/lib/python3.9/site-packages (from matplotlib<4.0.0,>=3.0.0->pyblaze) (9.2.0)\n",
      "Requirement already satisfied: kiwisolver>=1.0.1 in /home/jakub/miniconda3/envs/torch/lib/python3.9/site-packages (from matplotlib<4.0.0,>=3.0.0->pyblaze) (1.4.3)\n",
      "Requirement already satisfied: python-dateutil>=2.7 in /home/jakub/miniconda3/envs/torch/lib/python3.9/site-packages (from matplotlib<4.0.0,>=3.0.0->pyblaze) (2.8.2)\n",
      "Requirement already satisfied: pyparsing>=2.2.1 in /home/jakub/miniconda3/envs/torch/lib/python3.9/site-packages (from matplotlib<4.0.0,>=3.0.0->pyblaze) (3.0.9)\n",
      "Requirement already satisfied: packaging>=20.0 in /home/jakub/miniconda3/envs/torch/lib/python3.9/site-packages (from matplotlib<4.0.0,>=3.0.0->pyblaze) (21.3)\n",
      "Requirement already satisfied: llvmlite<0.39,>=0.38.0rc1 in /home/jakub/miniconda3/envs/torch/lib/python3.9/site-packages (from numba<1.0.0,>=0.48.0->pyblaze) (0.38.1)\n",
      "Requirement already satisfied: setuptools in /home/jakub/miniconda3/envs/torch/lib/python3.9/site-packages (from numba<1.0.0,>=0.48.0->pyblaze) (61.2.0)\n",
      "Requirement already satisfied: six>=1.5 in /home/jakub/miniconda3/envs/torch/lib/python3.9/site-packages (from python-dateutil>=2.7->matplotlib<4.0.0,>=3.0.0->pyblaze) (1.16.0)\n",
      "Requirement already satisfied: threadpoolctl>=2.0.0 in /home/jakub/miniconda3/envs/torch/lib/python3.9/site-packages (from scikit-learn<0.25.0,>=0.23.0->pyblaze) (3.1.0)\n",
      "Requirement already satisfied: joblib>=0.11 in /home/jakub/miniconda3/envs/torch/lib/python3.9/site-packages (from scikit-learn<0.25.0,>=0.23.0->pyblaze) (1.1.0)\n",
      "Requirement already satisfied: tensorboard-plugin-wit>=1.6.0 in /home/jakub/miniconda3/envs/torch/lib/python3.9/site-packages (from tensorboard<3.0.0,>=2.2.0->pyblaze) (1.8.1)\n",
      "Requirement already satisfied: grpcio>=1.24.3 in /home/jakub/miniconda3/envs/torch/lib/python3.9/site-packages (from tensorboard<3.0.0,>=2.2.0->pyblaze) (1.47.0)\n",
      "Requirement already satisfied: requests<3,>=2.21.0 in /home/jakub/miniconda3/envs/torch/lib/python3.9/site-packages (from tensorboard<3.0.0,>=2.2.0->pyblaze) (2.28.1)\n",
      "Requirement already satisfied: markdown>=2.6.8 in /home/jakub/miniconda3/envs/torch/lib/python3.9/site-packages (from tensorboard<3.0.0,>=2.2.0->pyblaze) (3.3.7)\n",
      "Requirement already satisfied: absl-py>=0.4 in /home/jakub/miniconda3/envs/torch/lib/python3.9/site-packages (from tensorboard<3.0.0,>=2.2.0->pyblaze) (1.1.0)\n",
      "Requirement already satisfied: protobuf<3.20,>=3.9.2 in /home/jakub/miniconda3/envs/torch/lib/python3.9/site-packages (from tensorboard<3.0.0,>=2.2.0->pyblaze) (3.19.4)\n",
      "Requirement already satisfied: wheel>=0.26 in /home/jakub/miniconda3/envs/torch/lib/python3.9/site-packages (from tensorboard<3.0.0,>=2.2.0->pyblaze) (0.37.1)\n",
      "Requirement already satisfied: google-auth-oauthlib<0.5,>=0.4.1 in /home/jakub/miniconda3/envs/torch/lib/python3.9/site-packages (from tensorboard<3.0.0,>=2.2.0->pyblaze) (0.4.6)\n",
      "Requirement already satisfied: tensorboard-data-server<0.7.0,>=0.6.0 in /home/jakub/miniconda3/envs/torch/lib/python3.9/site-packages (from tensorboard<3.0.0,>=2.2.0->pyblaze) (0.6.1)\n",
      "Requirement already satisfied: werkzeug>=1.0.1 in /home/jakub/miniconda3/envs/torch/lib/python3.9/site-packages (from tensorboard<3.0.0,>=2.2.0->pyblaze) (2.1.2)\n",
      "Requirement already satisfied: google-auth<3,>=1.6.3 in /home/jakub/miniconda3/envs/torch/lib/python3.9/site-packages (from tensorboard<3.0.0,>=2.2.0->pyblaze) (2.9.0)\n",
      "Requirement already satisfied: cachetools<6.0,>=2.0.0 in /home/jakub/miniconda3/envs/torch/lib/python3.9/site-packages (from google-auth<3,>=1.6.3->tensorboard<3.0.0,>=2.2.0->pyblaze) (5.2.0)\n",
      "Requirement already satisfied: pyasn1-modules>=0.2.1 in /home/jakub/miniconda3/envs/torch/lib/python3.9/site-packages (from google-auth<3,>=1.6.3->tensorboard<3.0.0,>=2.2.0->pyblaze) (0.2.8)\n",
      "Requirement already satisfied: rsa<5,>=3.1.4 in /home/jakub/miniconda3/envs/torch/lib/python3.9/site-packages (from google-auth<3,>=1.6.3->tensorboard<3.0.0,>=2.2.0->pyblaze) (4.8)\n",
      "Requirement already satisfied: requests-oauthlib>=0.7.0 in /home/jakub/miniconda3/envs/torch/lib/python3.9/site-packages (from google-auth-oauthlib<0.5,>=0.4.1->tensorboard<3.0.0,>=2.2.0->pyblaze) (1.3.1)\n",
      "Requirement already satisfied: importlib-metadata>=4.4 in /home/jakub/miniconda3/envs/torch/lib/python3.9/site-packages (from markdown>=2.6.8->tensorboard<3.0.0,>=2.2.0->pyblaze) (4.12.0)\n",
      "Requirement already satisfied: zipp>=0.5 in /home/jakub/miniconda3/envs/torch/lib/python3.9/site-packages (from importlib-metadata>=4.4->markdown>=2.6.8->tensorboard<3.0.0,>=2.2.0->pyblaze) (3.8.0)\n",
      "Requirement already satisfied: pyasn1<0.5.0,>=0.4.6 in /home/jakub/miniconda3/envs/torch/lib/python3.9/site-packages (from pyasn1-modules>=0.2.1->google-auth<3,>=1.6.3->tensorboard<3.0.0,>=2.2.0->pyblaze) (0.4.8)\n",
      "Requirement already satisfied: certifi>=2017.4.17 in /home/jakub/miniconda3/envs/torch/lib/python3.9/site-packages (from requests<3,>=2.21.0->tensorboard<3.0.0,>=2.2.0->pyblaze) (2022.6.15)\n",
      "Requirement already satisfied: urllib3<1.27,>=1.21.1 in /home/jakub/miniconda3/envs/torch/lib/python3.9/site-packages (from requests<3,>=2.21.0->tensorboard<3.0.0,>=2.2.0->pyblaze) (1.26.9)\n",
      "Requirement already satisfied: idna<4,>=2.5 in /home/jakub/miniconda3/envs/torch/lib/python3.9/site-packages (from requests<3,>=2.21.0->tensorboard<3.0.0,>=2.2.0->pyblaze) (3.3)\n",
      "Requirement already satisfied: charset-normalizer<3,>=2 in /home/jakub/miniconda3/envs/torch/lib/python3.9/site-packages (from requests<3,>=2.21.0->tensorboard<3.0.0,>=2.2.0->pyblaze) (2.1.0)\n",
      "Requirement already satisfied: oauthlib>=3.0.0 in /home/jakub/miniconda3/envs/torch/lib/python3.9/site-packages (from requests-oauthlib>=0.7.0->google-auth-oauthlib<0.5,>=0.4.1->tensorboard<3.0.0,>=2.2.0->pyblaze) (3.2.0)\n",
      "Requirement already satisfied: typing-extensions in /home/jakub/miniconda3/envs/torch/lib/python3.9/site-packages (from torch<2.0.0,>=1.4.0->pyblaze) (4.3.0)\n"
     ]
    }
   ],
   "source": [
    "!pip install music21\n",
    "!pip install pyblaze\n",
    "%matplotlib inline"
   ]
  },
  {
   "cell_type": "code",
   "execution_count": 2,
   "metadata": {},
   "outputs": [],
   "source": [
    "# !kaggle datasets download -d blanderbuss/midi-classic-music\n",
    "# !mkdir -p dataset\n",
    "# !unzip -o -qq midi-classic-music.zip -d dataset\n",
    "# !unzip -o -qq midiclassics.zip -d dataset"
   ]
  },
  {
   "cell_type": "code",
   "execution_count": 3,
   "metadata": {},
   "outputs": [
    {
     "name": "stderr",
     "output_type": "stream",
     "text": [
      "/home/jakub/miniconda3/envs/torch/lib/python3.9/site-packages/tqdm/auto.py:22: TqdmWarning: IProgress not found. Please update jupyter and ipywidgets. See https://ipywidgets.readthedocs.io/en/stable/user_install.html\n",
      "  from .autonotebook import tqdm as notebook_tqdm\n"
     ]
    }
   ],
   "source": [
    "# from parse import create_dataset\n",
    "from parse import convert_offsets_to_waits, get_score_with_components, tokenize_score\n",
    "from matplotlib import pyplot\n",
    "import numpy as np"
   ]
  },
  {
   "cell_type": "code",
   "execution_count": 4,
   "metadata": {},
   "outputs": [
    {
     "data": {
      "text/plain": [
       "<module 'parse' from '/home/jakub/neural music/parse.py'>"
      ]
     },
     "execution_count": 4,
     "metadata": {},
     "output_type": "execute_result"
    }
   ],
   "source": [
    "import importlib\n",
    "import parse\n",
    "importlib.reload(parse)"
   ]
  },
  {
   "cell_type": "code",
   "execution_count": 5,
   "metadata": {},
   "outputs": [],
   "source": [
    "# create_dataset()"
   ]
  },
  {
   "cell_type": "code",
   "execution_count": 6,
   "metadata": {},
   "outputs": [],
   "source": [
    "dataset = np.load(\"dataset_bach.npz\")"
   ]
  },
  {
   "cell_type": "code",
   "execution_count": 7,
   "metadata": {},
   "outputs": [],
   "source": [
    "files = [convert_offsets_to_waits(dataset[file]) for file in dataset.files]"
   ]
  },
  {
   "cell_type": "code",
   "execution_count": 8,
   "metadata": {},
   "outputs": [],
   "source": [
    "np.savez_compressed(\"dataset_bach_waits.npz\", *files)"
   ]
  },
  {
   "cell_type": "code",
   "execution_count": 9,
   "metadata": {},
   "outputs": [],
   "source": [
    "dataset_bach_waits = np.load(\"dataset_bach_waits.npz\")"
   ]
  },
  {
   "cell_type": "code",
   "execution_count": 10,
   "metadata": {},
   "outputs": [],
   "source": [
    "flat = np.concatenate([dataset_bach_waits[file] for file in dataset.files])"
   ]
  },
  {
   "cell_type": "code",
   "execution_count": 11,
   "metadata": {},
   "outputs": [
    {
     "data": {
      "text/plain": [
       "array([     0,      0,   4800,  20505,      0,   4531,      0,  16623,\n",
       "        11215,      0,  13790,      0,      0,      0,      0,      0,\n",
       "            0,      0,      0,      0,      0,      0,      0,      0,\n",
       "            0, 328328,      0,      0,      0,      0,  20428,      0,\n",
       "            0,      0,      0,      0,      0,      0,      0,      0,\n",
       "         4573,      0,      0,      0,      0,      0,      0,      0,\n",
       "            0,      0, 160068,      0,      0,      0,      0,      0,\n",
       "            0,      0,      0,      0,   3364,      0,      0,      0,\n",
       "            0,      0,      0,      0,      0,      0,   4835,      0,\n",
       "            0,      0,      0,      0,      0,      0,      0,      0,\n",
       "            0,      0,      0,      0,      0,      0,      0,      0,\n",
       "            0,      0,      0,      0,      0,      0,      0,      0,\n",
       "            0,      0,      0,      0,  25723,      0,      0,      0,\n",
       "            0,      0,      0,      0,      0,      0,      0,      0,\n",
       "            0,      0,      0,      0,      0,      0,      0,      0,\n",
       "            0,      0,      0,      0,      0,      0,      0,      0,\n",
       "            0,      0,      0,      0,      0,      0,      0,      0,\n",
       "            0,      0,      0,      0,      0,      0,      0,      0,\n",
       "            0,      0,      0,      0,      0,      0,    876,      0,\n",
       "            0,      0,      0,      0,      0,      0,      0,      0,\n",
       "            0,      0,      0,      0,      0,      0,      0,      0,\n",
       "            0,      0,      0,      0,      0,      0,      0,      0,\n",
       "            0,      0,      0,      0,      0,      0,      0,      0,\n",
       "            0,      0,      0,      0,      0,      0,      0,      0,\n",
       "            0,      0,      0,      0,      0,      0,      0,      0,\n",
       "         3651,      0,      0,      0,      0,      0,      0,      0,\n",
       "            0,      0,      0,      0,      0,      0,      0,      0,\n",
       "            0,      0,      0,      0,      0,      0,      0,      0,\n",
       "            0,      0,      0,      0,      0,      0,      0,      0,\n",
       "            0,      0,      0,      0,      0,      0,      0,      0,\n",
       "            0,      0,      0,      0,      0,      0,      0,      0,\n",
       "            0,      0,      0,      0,      0,      0,      0,      0,\n",
       "            0,      0,      0,      0,      0,      0,      0,      0,\n",
       "            0,      0,      0,      0,      0,      0,      0,      0,\n",
       "            0,      0,      0,      0,      0,      0,      0,      0,\n",
       "            0,      0,      0,      0,      0,      0,      0,      0,\n",
       "            0,      0,      0,      0,      0,      0,      0,      0,\n",
       "            0,      0,      0,      0,      0,      0,      0,      0,\n",
       "            0,      0,      0,      0,      0,      0,      0,      0,\n",
       "            0,      0,      0,      0,      0,      0,      0,      0,\n",
       "            0,      0,      0,      0,      0,      0,      0,      0,\n",
       "            0,      0,      0,      0,      0,      0,      0,      0,\n",
       "            0,      0,      0,      0,      0,      0,      0,      0,\n",
       "            0,      0,      0,      0,      0,      0,      0,      0,\n",
       "            0,      0,      0,      0,      0,      0,      0,      0,\n",
       "            0,      0,      0,      0,      0,      0,      0,      0,\n",
       "            0,      0,      0,      0,      0,      0,      0,      0,\n",
       "            0,      0,      0,      0,      0,      0,      0,      0,\n",
       "            0,      0,      0,      0,      0,      0,      0,      0,\n",
       "            0,      0,      0,      0,      0,      0,      0,      0,\n",
       "            0,      0,      0,      0,      0,      0,      0,      0,\n",
       "            0,      0,      0,      0,      0,      0,      0,      0,\n",
       "            0,      0,      0,      0,      0,      0,      0,      0,\n",
       "            0,      0,      0,      0,      0,      0,      0,      0,\n",
       "            0,      0,      0,      0,      0,      0,      0,      0,\n",
       "            0,      0,      0,      0,      0,      0,      0,      0,\n",
       "            0,      0,      0,      0,      0,      0,      0,      0,\n",
       "            0,      0,      0,      0,      0,      0,      0,      0,\n",
       "            0,      0,      0,      0,      0,      0,      0,      0,\n",
       "            0,      0,      0,      0,      0,      0,      0,      0,\n",
       "            0,      0,      0,      0,      0,      0,      0,      0,\n",
       "            0,      0,      0,      0,      0,      0,      0,      0,\n",
       "            0,      0,      0,      0,    948])"
      ]
     },
     "execution_count": 11,
     "metadata": {},
     "output_type": "execute_result"
    }
   ],
   "source": [
    "flatcmp = get_score_with_components(flat)\n",
    "np.bincount(flatcmp[flatcmp[:, 1] == 1][:, 0])"
   ]
  },
  {
   "cell_type": "code",
   "execution_count": 12,
   "metadata": {},
   "outputs": [
    {
     "data": {
      "text/plain": [
       "16"
      ]
     },
     "execution_count": 12,
     "metadata": {},
     "output_type": "execute_result"
    }
   ],
   "source": [
    "len(np.unique(flatcmp[flatcmp[:, 1] == 1][:, 0]))"
   ]
  },
  {
   "cell_type": "code",
   "execution_count": 13,
   "metadata": {},
   "outputs": [
    {
     "data": {
      "text/plain": [
       "(array([7.00000e+00, 1.90000e+01, 4.03000e+02, 2.64400e+03, 7.60600e+03,\n",
       "        1.82500e+04, 4.64210e+04, 6.77810e+04, 1.46203e+05, 1.25237e+05,\n",
       "        1.95448e+05, 2.00916e+05, 2.80442e+05, 2.64621e+05, 1.97663e+05,\n",
       "        5.72870e+04, 1.20820e+04, 1.21400e+03, 4.50000e+02, 2.60000e+01]),\n",
       " array([ 12. ,  16.5,  21. ,  25.5,  30. ,  34.5,  39. ,  43.5,  48. ,\n",
       "         52.5,  57. ,  61.5,  66. ,  70.5,  75. ,  79.5,  84. ,  88.5,\n",
       "         93. ,  97.5, 102. ]),\n",
       " <BarContainer object of 20 artists>)"
      ]
     },
     "execution_count": 13,
     "metadata": {},
     "output_type": "execute_result"
    },
    {
     "data": {
      "image/png": "[encoded data removed]",
      "text/plain": [
       "<Figure size 432x288 with 1 Axes>"
      ]
     },
     "metadata": {
      "image/png": {
       "height": 248,
       "width": 394
      },
      "needs_background": "light"
     },
     "output_type": "display_data"
    }
   ],
   "source": [
    "pyplot.hist(flatcmp[flatcmp[:, 1] == 0][:, 0], bins=20)"
   ]
  },
  {
   "cell_type": "code",
   "execution_count": 14,
   "metadata": {},
   "outputs": [
    {
     "data": {
      "text/plain": [
       "(array([ 25305.,  21154.,  25005.,      0., 348756., 168005.,  30558.,\n",
       "           876.,   3651.,    948.]),\n",
       " array([1.09861229, 1.61041167, 2.12221105, 2.63401043, 3.14580981,\n",
       "        3.65760919, 4.16940858, 4.68120796, 5.19300734, 5.70480672,\n",
       "        6.2166061 ]),\n",
       " <BarContainer object of 10 artists>)"
      ]
     },
     "execution_count": 14,
     "metadata": {},
     "output_type": "execute_result"
    },
    {
     "data": {
      "image/png": "[encoded data removed]",
      "text/plain": [
       "<Figure size 432x288 with 1 Axes>"
      ]
     },
     "metadata": {
      "image/png": {
       "height": 248,
       "width": 394
      },
      "needs_background": "light"
     },
     "output_type": "display_data"
    }
   ],
   "source": [
    "pyplot.hist(np.log1p(flatcmp[flatcmp[:, 1] == 1][:, 0]))"
   ]
  },
  {
   "cell_type": "code",
   "execution_count": 15,
   "metadata": {},
   "outputs": [],
   "source": [
    "tokens = tokenize_score(flatcmp)"
   ]
  },
  {
   "cell_type": "code",
   "execution_count": 16,
   "metadata": {},
   "outputs": [
    {
     "data": {
      "text/plain": [
       "144.0"
      ]
     },
     "execution_count": 16,
     "metadata": {},
     "output_type": "execute_result"
    }
   ],
   "source": [
    "tokens.max()"
   ]
  },
  {
   "cell_type": "code",
   "execution_count": 17,
   "metadata": {},
   "outputs": [],
   "source": [
    "files = [tokenize_score(get_score_with_components(dataset_bach_waits[file])) for file in dataset_bach_waits.files]"
   ]
  },
  {
   "cell_type": "code",
   "execution_count": 18,
   "metadata": {},
   "outputs": [],
   "source": [
    "np.savez_compressed(\"dataset_bach_tokenized.npz\", *files)"
   ]
  },
  {
   "cell_type": "code",
   "execution_count": 19,
   "metadata": {},
   "outputs": [
    {
     "data": {
      "text/plain": [
       "array([ 0.,  0.,  0., ..., 51., 55.,  0.])"
      ]
     },
     "execution_count": 19,
     "metadata": {},
     "output_type": "execute_result"
    }
   ],
   "source": [
    "files[10]"
   ]
  },
  {
   "cell_type": "code",
   "execution_count": 20,
   "metadata": {},
   "outputs": [
    {
     "data": {
      "text/plain": [
       "(array([9.48125e+05, 1.00000e+00, 2.50000e+01, 1.37700e+03, 9.27600e+03,\n",
       "        4.61000e+04, 1.27908e+05, 2.29884e+05, 2.87402e+05, 3.89404e+05,\n",
       "        4.20478e+05, 1.06575e+05, 5.81400e+03, 4.70000e+02, 6.00000e+00,\n",
       "        0.00000e+00, 0.00000e+00, 4.80000e+03, 4.15420e+05, 2.04038e+05]),\n",
       " array([  0. ,   7.2,  14.4,  21.6,  28.8,  36. ,  43.2,  50.4,  57.6,\n",
       "         64.8,  72. ,  79.2,  86.4,  93.6, 100.8, 108. , 115.2, 122.4,\n",
       "        129.6, 136.8, 144. ]),\n",
       " <BarContainer object of 20 artists>)"
      ]
     },
     "execution_count": 20,
     "metadata": {},
     "output_type": "execute_result"
    },
    {
     "data": {
      "image/png": "[encoded data removed]",
      "text/plain": [
       "<Figure size 432x288 with 1 Axes>"
      ]
     },
     "metadata": {
      "image/png": {
       "height": 248,
       "width": 394
      },
      "needs_background": "light"
     },
     "output_type": "display_data"
    }
   ],
   "source": [
    "all_files = np.concatenate(files)\n",
    "pyplot.hist(all_files, bins=20)"
   ]
  },
  {
   "cell_type": "code",
   "execution_count": 21,
   "metadata": {},
   "outputs": [],
   "source": [
    "import torch\n",
    "from compressive_transformer_pytorch import CompressiveTransformer\n",
    "from compressive_transformer_pytorch import AutoregressiveWrapper"
   ]
  },
  {
   "cell_type": "code",
   "execution_count": 22,
   "metadata": {},
   "outputs": [],
   "source": [
    "class OpressiveTransformer(CompressiveTransformer):\n",
    "    def __init__(self, *args, **kwargs):\n",
    "        super().__init__(*args, **kwargs)\n",
    "        self.to_logits.add_module(\"softmax\", torch.nn.Softmax(-1))\n",
    "    # def forward(self, x, memories = None, mask = None):\n",
    "    #     out, mem, aux_loss = super().forward(x, memories, mask)\n",
    "    #     return torch.nn.Softmax()(out), mem, aux_loss"
   ]
  },
  {
   "cell_type": "code",
   "execution_count": 23,
   "metadata": {},
   "outputs": [],
   "source": [
    "model = CompressiveTransformer(\n",
    "    num_tokens = 128 + 16 + 1,\n",
    "    dim = 512,\n",
    "    depth = 6,\n",
    "    seq_len = 1024,\n",
    "    mem_len = 1024,\n",
    "    cmem_len = 256,\n",
    "    cmem_ratio = 4,\n",
    "    memory_layers = [5,6],\n",
    "    mogrify_gru=False,\n",
    ").cuda()"
   ]
  },
  {
   "cell_type": "code",
   "execution_count": 24,
   "metadata": {},
   "outputs": [
    {
     "data": {
      "text/plain": [
       "181756928"
      ]
     },
     "execution_count": 24,
     "metadata": {},
     "output_type": "execute_result"
    }
   ],
   "source": [
    "torch.cuda.memory_allocated()"
   ]
  },
  {
   "cell_type": "code",
   "execution_count": 25,
   "metadata": {},
   "outputs": [],
   "source": [
    "# model.generate(torch.ones(1, 1).to(torch.int64).cuda(), 10)"
   ]
  },
  {
   "cell_type": "code",
   "execution_count": 26,
   "metadata": {},
   "outputs": [],
   "source": [
    "from random import choice\n",
    "def generate_dataset(path=\"dataset_bach_tokenized.npz\", batch_len=16):\n",
    "\tfiles = np.load(path)\n",
    "\twhile True:\n",
    "\t\tX = []\n",
    "\t\tY = []\n",
    "\t\tfor _ in range(batch_len):\n",
    "\t\t\tfile = files[choice(files.files)]\n",
    "\t\t\tnum = np.random.randint(0, len(file) - 1024)\n",
    "\t\t\tX.append(file[num: num+1024].tolist())\n",
    "\t\t\tY.append(file[num+1024])\n",
    "\t\tyield np.array(X), np.array(Y)"
   ]
  },
  {
   "cell_type": "code",
   "execution_count": 27,
   "metadata": {},
   "outputs": [],
   "source": [
    "gen = generate_dataset(batch_len=2)"
   ]
  },
  {
   "cell_type": "code",
   "execution_count": 28,
   "metadata": {},
   "outputs": [
    {
     "data": {
      "text/plain": [
       "((2, 1024), (2,))"
      ]
     },
     "execution_count": 28,
     "metadata": {},
     "output_type": "execute_result"
    }
   ],
   "source": [
    "x,y = next(gen)\n",
    "x.shape, y.shape"
   ]
  },
  {
   "cell_type": "code",
   "execution_count": 29,
   "metadata": {},
   "outputs": [
    {
     "data": {
      "text/plain": [
       "array([[ 0.,  0.,  0., ..., 65., 60., 53.],\n",
       "       [ 0.,  0.,  0., ..., 68., 61., 61.]])"
      ]
     },
     "execution_count": 29,
     "metadata": {},
     "output_type": "execute_result"
    }
   ],
   "source": [
    "x"
   ]
  },
  {
   "cell_type": "code",
   "execution_count": 30,
   "metadata": {},
   "outputs": [
    {
     "data": {
      "text/plain": [
       "array([141., 141.])"
      ]
     },
     "execution_count": 30,
     "metadata": {},
     "output_type": "execute_result"
    }
   ],
   "source": [
    "y"
   ]
  },
  {
   "cell_type": "code",
   "execution_count": null,
   "metadata": {},
   "outputs": [],
   "source": []
  },
  {
   "cell_type": "code",
   "execution_count": 31,
   "metadata": {},
   "outputs": [],
   "source": [
    "# model_regr = AutoregressiveWrapper(model).cuda()"
   ]
  },
  {
   "cell_type": "code",
   "execution_count": 38,
   "metadata": {},
   "outputs": [],
   "source": [
    "torch.cuda.empty_cache()"
   ]
  },
  {
   "cell_type": "code",
   "execution_count": 34,
   "metadata": {},
   "outputs": [],
   "source": [
    "tens = torch.from_numpy(next(gen)[0]).to(torch.int).cuda()"
   ]
  },
  {
   "cell_type": "code",
   "execution_count": 35,
   "metadata": {},
   "outputs": [
    {
     "name": "stdout",
     "output_type": "stream",
     "text": [
      "Sun Jul 17 11:45:30 2022       \n",
      "+-----------------------------------------------------------------------------+\n",
      "| NVIDIA-SMI 515.43.04    Driver Version: 515.43.04    CUDA Version: 11.7     |\n",
      "|-------------------------------+----------------------+----------------------+\n",
      "| GPU  Name        Persistence-M| Bus-Id        Disp.A | Volatile Uncorr. ECC |\n",
      "| Fan  Temp  Perf  Pwr:Usage/Cap|         Memory-Usage | GPU-Util  Compute M. |\n",
      "|                               |                      |               MIG M. |\n",
      "|===============================+======================+======================|\n",
      "|   0  NVIDIA GeForce ...  On   | 00000000:01:00.0 Off |                  N/A |\n",
      "| N/A   64C    P0     9W /  N/A |    712MiB /  4096MiB |      0%      Default |\n",
      "|                               |                      |                  N/A |\n",
      "+-------------------------------+----------------------+----------------------+\n",
      "                                                                               \n",
      "+-----------------------------------------------------------------------------+\n",
      "| Processes:                                                                  |\n",
      "|  GPU   GI   CI        PID   Type   Process name                  GPU Memory |\n",
      "|        ID   ID                                                   Usage      |\n",
      "|=============================================================================|\n",
      "|    0   N/A  N/A      1145      G   /usr/lib/xorg/Xorg                  4MiB |\n",
      "|    0   N/A  N/A      4180      C   ...da3/envs/torch/bin/python      705MiB |\n",
      "+-----------------------------------------------------------------------------+\n"
     ]
    }
   ],
   "source": [
    "!nvidia-smi"
   ]
  },
  {
   "cell_type": "code",
   "execution_count": 43,
   "metadata": {},
   "outputs": [
    {
     "ename": "RuntimeError",
     "evalue": "CUDA out of memory. Tried to allocate 130.00 MiB (GPU 0; 3.82 GiB total capacity; 2.74 GiB already allocated; 24.06 MiB free; 2.92 GiB reserved in total by PyTorch) If reserved memory is >> allocated memory try setting max_split_size_mb to avoid fragmentation.  See documentation for Memory Management and PYTORCH_CUDA_ALLOC_CONF",
     "output_type": "error",
     "traceback": [
      "\u001b[0;31m---------------------------------------------------------------------------\u001b[0m",
      "\u001b[0;31mRuntimeError\u001b[0m                              Traceback (most recent call last)",
      "\u001b[1;32m/home/jakub/neural music/pytorch.ipynb Cell 34\u001b[0m in \u001b[0;36m<cell line: 2>\u001b[0;34m()\u001b[0m\n\u001b[1;32m      <a href='vscode-notebook-cell:/home/jakub/neural%20music/pytorch.ipynb#ch0000033?line=0'>1</a>\u001b[0m tens \u001b[39m=\u001b[39m torch\u001b[39m.\u001b[39mfrom_numpy(\u001b[39mnext\u001b[39m(gen)[\u001b[39m0\u001b[39m])\u001b[39m.\u001b[39mto(torch\u001b[39m.\u001b[39mint)\u001b[39m.\u001b[39mcuda()\n\u001b[0;32m----> <a href='vscode-notebook-cell:/home/jakub/neural%20music/pytorch.ipynb#ch0000033?line=1'>2</a>\u001b[0m x \u001b[39m=\u001b[39m model(tens)\n",
      "File \u001b[0;32m~/miniconda3/envs/torch/lib/python3.9/site-packages/torch/nn/modules/module.py:1130\u001b[0m, in \u001b[0;36mModule._call_impl\u001b[0;34m(self, *input, **kwargs)\u001b[0m\n\u001b[1;32m   1126\u001b[0m \u001b[39m# If we don't have any hooks, we want to skip the rest of the logic in\u001b[39;00m\n\u001b[1;32m   1127\u001b[0m \u001b[39m# this function, and just call forward.\u001b[39;00m\n\u001b[1;32m   1128\u001b[0m \u001b[39mif\u001b[39;00m \u001b[39mnot\u001b[39;00m (\u001b[39mself\u001b[39m\u001b[39m.\u001b[39m_backward_hooks \u001b[39mor\u001b[39;00m \u001b[39mself\u001b[39m\u001b[39m.\u001b[39m_forward_hooks \u001b[39mor\u001b[39;00m \u001b[39mself\u001b[39m\u001b[39m.\u001b[39m_forward_pre_hooks \u001b[39mor\u001b[39;00m _global_backward_hooks\n\u001b[1;32m   1129\u001b[0m         \u001b[39mor\u001b[39;00m _global_forward_hooks \u001b[39mor\u001b[39;00m _global_forward_pre_hooks):\n\u001b[0;32m-> 1130\u001b[0m     \u001b[39mreturn\u001b[39;00m forward_call(\u001b[39m*\u001b[39;49m\u001b[39minput\u001b[39;49m, \u001b[39m*\u001b[39;49m\u001b[39m*\u001b[39;49mkwargs)\n\u001b[1;32m   1131\u001b[0m \u001b[39m# Do not call functions when jit is used\u001b[39;00m\n\u001b[1;32m   1132\u001b[0m full_backward_hooks, non_full_backward_hooks \u001b[39m=\u001b[39m [], []\n",
      "File \u001b[0;32m~/miniconda3/envs/torch/lib/python3.9/site-packages/compressive_transformer_pytorch/compressive_transformer_pytorch.py:382\u001b[0m, in \u001b[0;36mCompressiveTransformer.forward\u001b[0;34m(self, x, memories, mask)\u001b[0m\n\u001b[1;32m    379\u001b[0m use_memory \u001b[39m=\u001b[39m layer_num \u001b[39min\u001b[39;00m \u001b[39mself\u001b[39m\u001b[39m.\u001b[39mmemory_layers\n\u001b[1;32m    380\u001b[0m memories \u001b[39m=\u001b[39m (\u001b[39mnext\u001b[39m(mem_iter), \u001b[39mnext\u001b[39m(cmem_iter)) \u001b[39mif\u001b[39;00m use_memory \u001b[39melse\u001b[39;00m \u001b[39mNone\u001b[39;00m\n\u001b[0;32m--> 382\u001b[0m x, (mem_out, cmem_out), layer_aux_loss \u001b[39m=\u001b[39m attn(x, memories \u001b[39m=\u001b[39;49m memories, calc_memory \u001b[39m=\u001b[39;49m use_memory, input_mask \u001b[39m=\u001b[39;49m mask, pos_emb \u001b[39m=\u001b[39;49m pos_emb)\n\u001b[1;32m    383\u001b[0m x,  \u001b[39m=\u001b[39m ff(x)\n\u001b[1;32m    385\u001b[0m aux_loss \u001b[39m=\u001b[39m aux_loss \u001b[39m+\u001b[39m layer_aux_loss\n",
      "File \u001b[0;32m~/miniconda3/envs/torch/lib/python3.9/site-packages/torch/nn/modules/module.py:1130\u001b[0m, in \u001b[0;36mModule._call_impl\u001b[0;34m(self, *input, **kwargs)\u001b[0m\n\u001b[1;32m   1126\u001b[0m \u001b[39m# If we don't have any hooks, we want to skip the rest of the logic in\u001b[39;00m\n\u001b[1;32m   1127\u001b[0m \u001b[39m# this function, and just call forward.\u001b[39;00m\n\u001b[1;32m   1128\u001b[0m \u001b[39mif\u001b[39;00m \u001b[39mnot\u001b[39;00m (\u001b[39mself\u001b[39m\u001b[39m.\u001b[39m_backward_hooks \u001b[39mor\u001b[39;00m \u001b[39mself\u001b[39m\u001b[39m.\u001b[39m_forward_hooks \u001b[39mor\u001b[39;00m \u001b[39mself\u001b[39m\u001b[39m.\u001b[39m_forward_pre_hooks \u001b[39mor\u001b[39;00m _global_backward_hooks\n\u001b[1;32m   1129\u001b[0m         \u001b[39mor\u001b[39;00m _global_forward_hooks \u001b[39mor\u001b[39;00m _global_forward_pre_hooks):\n\u001b[0;32m-> 1130\u001b[0m     \u001b[39mreturn\u001b[39;00m forward_call(\u001b[39m*\u001b[39;49m\u001b[39minput\u001b[39;49m, \u001b[39m*\u001b[39;49m\u001b[39m*\u001b[39;49mkwargs)\n\u001b[1;32m   1131\u001b[0m \u001b[39m# Do not call functions when jit is used\u001b[39;00m\n\u001b[1;32m   1132\u001b[0m full_backward_hooks, non_full_backward_hooks \u001b[39m=\u001b[39m [], []\n",
      "File \u001b[0;32m~/miniconda3/envs/torch/lib/python3.9/site-packages/compressive_transformer_pytorch/compressive_transformer_pytorch.py:102\u001b[0m, in \u001b[0;36mGRUGating.forward\u001b[0;34m(self, x, **kwargs)\u001b[0m\n\u001b[1;32m    100\u001b[0m \u001b[39mdef\u001b[39;00m \u001b[39mforward\u001b[39m(\u001b[39mself\u001b[39m, x, \u001b[39m*\u001b[39m\u001b[39m*\u001b[39mkwargs):\n\u001b[1;32m    101\u001b[0m     batch, dim \u001b[39m=\u001b[39m x\u001b[39m.\u001b[39mshape[\u001b[39m0\u001b[39m], \u001b[39mself\u001b[39m\u001b[39m.\u001b[39mdim\n\u001b[0;32m--> 102\u001b[0m     out \u001b[39m=\u001b[39m \u001b[39mself\u001b[39;49m\u001b[39m.\u001b[39;49mfn(x, \u001b[39m*\u001b[39;49m\u001b[39m*\u001b[39;49mkwargs)\n\u001b[1;32m    103\u001b[0m     (y, \u001b[39m*\u001b[39mrest) \u001b[39m=\u001b[39m cast_tuple(out)\n\u001b[1;32m    105\u001b[0m     \u001b[39mif\u001b[39;00m \u001b[39mself\u001b[39m\u001b[39m.\u001b[39mmogrify \u001b[39mis\u001b[39;00m \u001b[39mnot\u001b[39;00m \u001b[39mNone\u001b[39;00m:\n",
      "File \u001b[0;32m~/miniconda3/envs/torch/lib/python3.9/site-packages/torch/nn/modules/module.py:1130\u001b[0m, in \u001b[0;36mModule._call_impl\u001b[0;34m(self, *input, **kwargs)\u001b[0m\n\u001b[1;32m   1126\u001b[0m \u001b[39m# If we don't have any hooks, we want to skip the rest of the logic in\u001b[39;00m\n\u001b[1;32m   1127\u001b[0m \u001b[39m# this function, and just call forward.\u001b[39;00m\n\u001b[1;32m   1128\u001b[0m \u001b[39mif\u001b[39;00m \u001b[39mnot\u001b[39;00m (\u001b[39mself\u001b[39m\u001b[39m.\u001b[39m_backward_hooks \u001b[39mor\u001b[39;00m \u001b[39mself\u001b[39m\u001b[39m.\u001b[39m_forward_hooks \u001b[39mor\u001b[39;00m \u001b[39mself\u001b[39m\u001b[39m.\u001b[39m_forward_pre_hooks \u001b[39mor\u001b[39;00m _global_backward_hooks\n\u001b[1;32m   1129\u001b[0m         \u001b[39mor\u001b[39;00m _global_forward_hooks \u001b[39mor\u001b[39;00m _global_forward_pre_hooks):\n\u001b[0;32m-> 1130\u001b[0m     \u001b[39mreturn\u001b[39;00m forward_call(\u001b[39m*\u001b[39;49m\u001b[39minput\u001b[39;49m, \u001b[39m*\u001b[39;49m\u001b[39m*\u001b[39;49mkwargs)\n\u001b[1;32m   1131\u001b[0m \u001b[39m# Do not call functions when jit is used\u001b[39;00m\n\u001b[1;32m   1132\u001b[0m full_backward_hooks, non_full_backward_hooks \u001b[39m=\u001b[39m [], []\n",
      "File \u001b[0;32m~/miniconda3/envs/torch/lib/python3.9/site-packages/compressive_transformer_pytorch/compressive_transformer_pytorch.py:124\u001b[0m, in \u001b[0;36mPreNorm.forward\u001b[0;34m(self, x, **kwargs)\u001b[0m\n\u001b[1;32m    122\u001b[0m \u001b[39mdef\u001b[39;00m \u001b[39mforward\u001b[39m(\u001b[39mself\u001b[39m, x, \u001b[39m*\u001b[39m\u001b[39m*\u001b[39mkwargs):\n\u001b[1;32m    123\u001b[0m     x \u001b[39m=\u001b[39m \u001b[39mself\u001b[39m\u001b[39m.\u001b[39mnorm(x)\n\u001b[0;32m--> 124\u001b[0m     \u001b[39mreturn\u001b[39;00m \u001b[39mself\u001b[39;49m\u001b[39m.\u001b[39;49mfn(x, \u001b[39m*\u001b[39;49m\u001b[39m*\u001b[39;49mkwargs)\n",
      "File \u001b[0;32m~/miniconda3/envs/torch/lib/python3.9/site-packages/torch/nn/modules/module.py:1130\u001b[0m, in \u001b[0;36mModule._call_impl\u001b[0;34m(self, *input, **kwargs)\u001b[0m\n\u001b[1;32m   1126\u001b[0m \u001b[39m# If we don't have any hooks, we want to skip the rest of the logic in\u001b[39;00m\n\u001b[1;32m   1127\u001b[0m \u001b[39m# this function, and just call forward.\u001b[39;00m\n\u001b[1;32m   1128\u001b[0m \u001b[39mif\u001b[39;00m \u001b[39mnot\u001b[39;00m (\u001b[39mself\u001b[39m\u001b[39m.\u001b[39m_backward_hooks \u001b[39mor\u001b[39;00m \u001b[39mself\u001b[39m\u001b[39m.\u001b[39m_forward_hooks \u001b[39mor\u001b[39;00m \u001b[39mself\u001b[39m\u001b[39m.\u001b[39m_forward_pre_hooks \u001b[39mor\u001b[39;00m _global_backward_hooks\n\u001b[1;32m   1129\u001b[0m         \u001b[39mor\u001b[39;00m _global_forward_hooks \u001b[39mor\u001b[39;00m _global_forward_pre_hooks):\n\u001b[0;32m-> 1130\u001b[0m     \u001b[39mreturn\u001b[39;00m forward_call(\u001b[39m*\u001b[39;49m\u001b[39minput\u001b[39;49m, \u001b[39m*\u001b[39;49m\u001b[39m*\u001b[39;49mkwargs)\n\u001b[1;32m   1131\u001b[0m \u001b[39m# Do not call functions when jit is used\u001b[39;00m\n\u001b[1;32m   1132\u001b[0m full_backward_hooks, non_full_backward_hooks \u001b[39m=\u001b[39m [], []\n",
      "File \u001b[0;32m~/miniconda3/envs/torch/lib/python3.9/site-packages/compressive_transformer_pytorch/compressive_transformer_pytorch.py:223\u001b[0m, in \u001b[0;36mSelfAttention.forward\u001b[0;34m(self, x, memories, pos_emb, input_mask, calc_memory, **kwargs)\u001b[0m\n\u001b[1;32m    221\u001b[0m     pos_emb \u001b[39m=\u001b[39m pos_emb[:, \u001b[39m-\u001b[39mkv_len:]\u001b[39m.\u001b[39mtype(q\u001b[39m.\u001b[39mdtype)\n\u001b[1;32m    222\u001b[0m     pos_dots \u001b[39m=\u001b[39m torch\u001b[39m.\u001b[39meinsum(\u001b[39m'\u001b[39m\u001b[39mbhid,hjd->bhij\u001b[39m\u001b[39m'\u001b[39m, q, pos_emb) \u001b[39m*\u001b[39m \u001b[39mself\u001b[39m\u001b[39m.\u001b[39mscale\n\u001b[0;32m--> 223\u001b[0m     pos_dots \u001b[39m=\u001b[39m shift(pos_dots)\n\u001b[1;32m    224\u001b[0m     dots \u001b[39m=\u001b[39m dots \u001b[39m+\u001b[39m pos_dots\n\u001b[1;32m    226\u001b[0m \u001b[39mif\u001b[39;00m input_mask \u001b[39mis\u001b[39;00m \u001b[39mnot\u001b[39;00m \u001b[39mNone\u001b[39;00m:\n",
      "File \u001b[0;32m~/miniconda3/envs/torch/lib/python3.9/site-packages/compressive_transformer_pytorch/compressive_transformer_pytorch.py:62\u001b[0m, in \u001b[0;36mshift\u001b[0;34m(x)\u001b[0m\n\u001b[1;32m     60\u001b[0m x \u001b[39m=\u001b[39m x\u001b[39m.\u001b[39mview(\u001b[39m*\u001b[39m_, \u001b[39m-\u001b[39m\u001b[39m1\u001b[39m)\n\u001b[1;32m     61\u001b[0m zero_pad \u001b[39m=\u001b[39m torch\u001b[39m.\u001b[39mzeros(\u001b[39m*\u001b[39m_, \u001b[39m-\u001b[39mx\u001b[39m.\u001b[39msize(\u001b[39m-\u001b[39m\u001b[39m1\u001b[39m) \u001b[39m%\u001b[39m l, \u001b[39m*\u001b[39m\u001b[39m*\u001b[39mto(x))\n\u001b[0;32m---> 62\u001b[0m shifted \u001b[39m=\u001b[39m torch\u001b[39m.\u001b[39;49mcat([x, zero_pad], \u001b[39m-\u001b[39;49m\u001b[39m1\u001b[39;49m)\u001b[39m.\u001b[39mview(\u001b[39m*\u001b[39m_, \u001b[39m-\u001b[39m\u001b[39m1\u001b[39m, l)\n\u001b[1;32m     63\u001b[0m \u001b[39mreturn\u001b[39;00m shifted[\u001b[39m.\u001b[39m\u001b[39m.\u001b[39m\u001b[39m.\u001b[39m, :i, i \u001b[39m-\u001b[39m \u001b[39m1\u001b[39m:]\n",
      "\u001b[0;31mRuntimeError\u001b[0m: CUDA out of memory. Tried to allocate 130.00 MiB (GPU 0; 3.82 GiB total capacity; 2.74 GiB already allocated; 24.06 MiB free; 2.92 GiB reserved in total by PyTorch) If reserved memory is >> allocated memory try setting max_split_size_mb to avoid fragmentation.  See documentation for Memory Management and PYTORCH_CUDA_ALLOC_CONF"
     ]
    }
   ],
   "source": [
    "tens = torch.from_numpy(next(gen)[0]).to(torch.int).cuda()\n",
    "x = model(tens)\n",
    "# loss, aux_loss, _ = model_regr(torch.from_numpy(np.array([x[0]])).to(torch.int64).cuda(), return_loss=True)"
   ]
  },
  {
   "cell_type": "code",
   "execution_count": 36,
   "metadata": {},
   "outputs": [],
   "source": [
    "del x"
   ]
  },
  {
   "cell_type": "code",
   "execution_count": 34,
   "metadata": {},
   "outputs": [
    {
     "data": {
      "text/plain": [
       "tensor([[1., 1., 1.],\n",
       "        [1., 1., 1.]])"
      ]
     },
     "execution_count": 34,
     "metadata": {},
     "output_type": "execute_result"
    }
   ],
   "source": [
    "torch.ones(2, 3)"
   ]
  },
  {
   "cell_type": "code",
   "execution_count": 38,
   "metadata": {},
   "outputs": [
    {
     "ename": "RuntimeError",
     "evalue": "CUDA out of memory. Tried to allocate 1.00 GiB (GPU 0; 3.82 GiB total capacity; 2.36 GiB already allocated; 582.06 MiB free; 2.38 GiB reserved in total by PyTorch) If reserved memory is >> allocated memory try setting max_split_size_mb to avoid fragmentation.  See documentation for Memory Management and PYTORCH_CUDA_ALLOC_CONF",
     "output_type": "error",
     "traceback": [
      "\u001b[0;31m---------------------------------------------------------------------------\u001b[0m",
      "\u001b[0;31mRuntimeError\u001b[0m                              Traceback (most recent call last)",
      "\u001b[1;32m/home/jakub/neural music/pytorch.ipynb Cell 34\u001b[0m in \u001b[0;36m<cell line: 1>\u001b[0;34m()\u001b[0m\n\u001b[0;32m----> <a href='vscode-notebook-cell:/home/jakub/neural%20music/pytorch.ipynb#ch0000036?line=0'>1</a>\u001b[0m model_regr\u001b[39m.\u001b[39;49mgenerate(torch\u001b[39m.\u001b[39;49mones(\u001b[39m16\u001b[39;49m, \u001b[39m1024\u001b[39;49m)\u001b[39m.\u001b[39;49mto(torch\u001b[39m.\u001b[39;49mint64)\u001b[39m.\u001b[39;49mcuda(), \u001b[39m10\u001b[39;49m)\n",
      "File \u001b[0;32m~/miniconda3/envs/torch/lib/python3.9/site-packages/torch/autograd/grad_mode.py:27\u001b[0m, in \u001b[0;36m_DecoratorContextManager.__call__.<locals>.decorate_context\u001b[0;34m(*args, **kwargs)\u001b[0m\n\u001b[1;32m     24\u001b[0m \u001b[39m@functools\u001b[39m\u001b[39m.\u001b[39mwraps(func)\n\u001b[1;32m     25\u001b[0m \u001b[39mdef\u001b[39;00m \u001b[39mdecorate_context\u001b[39m(\u001b[39m*\u001b[39margs, \u001b[39m*\u001b[39m\u001b[39m*\u001b[39mkwargs):\n\u001b[1;32m     26\u001b[0m     \u001b[39mwith\u001b[39;00m \u001b[39mself\u001b[39m\u001b[39m.\u001b[39mclone():\n\u001b[0;32m---> 27\u001b[0m         \u001b[39mreturn\u001b[39;00m func(\u001b[39m*\u001b[39;49margs, \u001b[39m*\u001b[39;49m\u001b[39m*\u001b[39;49mkwargs)\n",
      "File \u001b[0;32m~/miniconda3/envs/torch/lib/python3.9/site-packages/compressive_transformer_pytorch/autoregressive_wrapper.py:81\u001b[0m, in \u001b[0;36mAutoregressiveWrapper.generate\u001b[0;34m(self, start_tokens, seq_len, eos_token, temperature, filter_logits_fn, filter_thres, **kwargs)\u001b[0m\n\u001b[1;32m     78\u001b[0m input_len \u001b[39m=\u001b[39m out\u001b[39m.\u001b[39mshape[\u001b[39m1\u001b[39m]\n\u001b[1;32m     80\u001b[0m \u001b[39mfor\u001b[39;00m _ \u001b[39min\u001b[39;00m \u001b[39mrange\u001b[39m(seq_len):\n\u001b[0;32m---> 81\u001b[0m     logits, mem, aux_loss \u001b[39m=\u001b[39m \u001b[39mself\u001b[39;49m\u001b[39m.\u001b[39;49mnet(out[:, \u001b[39m-\u001b[39;49minput_len:], memories \u001b[39m=\u001b[39;49m mem, mask \u001b[39m=\u001b[39;49m mask[:, \u001b[39m-\u001b[39;49minput_len:], \u001b[39m*\u001b[39;49m\u001b[39m*\u001b[39;49mkwargs)\n\u001b[1;32m     82\u001b[0m     logits \u001b[39m=\u001b[39m logits[:, \u001b[39m-\u001b[39m\u001b[39m1\u001b[39m, :]\n\u001b[1;32m     83\u001b[0m     filtered_logits \u001b[39m=\u001b[39m filter_logits_fn(logits, thres \u001b[39m=\u001b[39m filter_thres)\n",
      "File \u001b[0;32m~/miniconda3/envs/torch/lib/python3.9/site-packages/torch/nn/modules/module.py:1130\u001b[0m, in \u001b[0;36mModule._call_impl\u001b[0;34m(self, *input, **kwargs)\u001b[0m\n\u001b[1;32m   1126\u001b[0m \u001b[39m# If we don't have any hooks, we want to skip the rest of the logic in\u001b[39;00m\n\u001b[1;32m   1127\u001b[0m \u001b[39m# this function, and just call forward.\u001b[39;00m\n\u001b[1;32m   1128\u001b[0m \u001b[39mif\u001b[39;00m \u001b[39mnot\u001b[39;00m (\u001b[39mself\u001b[39m\u001b[39m.\u001b[39m_backward_hooks \u001b[39mor\u001b[39;00m \u001b[39mself\u001b[39m\u001b[39m.\u001b[39m_forward_hooks \u001b[39mor\u001b[39;00m \u001b[39mself\u001b[39m\u001b[39m.\u001b[39m_forward_pre_hooks \u001b[39mor\u001b[39;00m _global_backward_hooks\n\u001b[1;32m   1129\u001b[0m         \u001b[39mor\u001b[39;00m _global_forward_hooks \u001b[39mor\u001b[39;00m _global_forward_pre_hooks):\n\u001b[0;32m-> 1130\u001b[0m     \u001b[39mreturn\u001b[39;00m forward_call(\u001b[39m*\u001b[39;49m\u001b[39minput\u001b[39;49m, \u001b[39m*\u001b[39;49m\u001b[39m*\u001b[39;49mkwargs)\n\u001b[1;32m   1131\u001b[0m \u001b[39m# Do not call functions when jit is used\u001b[39;00m\n\u001b[1;32m   1132\u001b[0m full_backward_hooks, non_full_backward_hooks \u001b[39m=\u001b[39m [], []\n",
      "File \u001b[0;32m~/miniconda3/envs/torch/lib/python3.9/site-packages/compressive_transformer_pytorch/compressive_transformer_pytorch.py:382\u001b[0m, in \u001b[0;36mCompressiveTransformer.forward\u001b[0;34m(self, x, memories, mask)\u001b[0m\n\u001b[1;32m    379\u001b[0m use_memory \u001b[39m=\u001b[39m layer_num \u001b[39min\u001b[39;00m \u001b[39mself\u001b[39m\u001b[39m.\u001b[39mmemory_layers\n\u001b[1;32m    380\u001b[0m memories \u001b[39m=\u001b[39m (\u001b[39mnext\u001b[39m(mem_iter), \u001b[39mnext\u001b[39m(cmem_iter)) \u001b[39mif\u001b[39;00m use_memory \u001b[39melse\u001b[39;00m \u001b[39mNone\u001b[39;00m\n\u001b[0;32m--> 382\u001b[0m x, (mem_out, cmem_out), layer_aux_loss \u001b[39m=\u001b[39m attn(x, memories \u001b[39m=\u001b[39;49m memories, calc_memory \u001b[39m=\u001b[39;49m use_memory, input_mask \u001b[39m=\u001b[39;49m mask, pos_emb \u001b[39m=\u001b[39;49m pos_emb)\n\u001b[1;32m    383\u001b[0m x,  \u001b[39m=\u001b[39m ff(x)\n\u001b[1;32m    385\u001b[0m aux_loss \u001b[39m=\u001b[39m aux_loss \u001b[39m+\u001b[39m layer_aux_loss\n",
      "File \u001b[0;32m~/miniconda3/envs/torch/lib/python3.9/site-packages/torch/nn/modules/module.py:1130\u001b[0m, in \u001b[0;36mModule._call_impl\u001b[0;34m(self, *input, **kwargs)\u001b[0m\n\u001b[1;32m   1126\u001b[0m \u001b[39m# If we don't have any hooks, we want to skip the rest of the logic in\u001b[39;00m\n\u001b[1;32m   1127\u001b[0m \u001b[39m# this function, and just call forward.\u001b[39;00m\n\u001b[1;32m   1128\u001b[0m \u001b[39mif\u001b[39;00m \u001b[39mnot\u001b[39;00m (\u001b[39mself\u001b[39m\u001b[39m.\u001b[39m_backward_hooks \u001b[39mor\u001b[39;00m \u001b[39mself\u001b[39m\u001b[39m.\u001b[39m_forward_hooks \u001b[39mor\u001b[39;00m \u001b[39mself\u001b[39m\u001b[39m.\u001b[39m_forward_pre_hooks \u001b[39mor\u001b[39;00m _global_backward_hooks\n\u001b[1;32m   1129\u001b[0m         \u001b[39mor\u001b[39;00m _global_forward_hooks \u001b[39mor\u001b[39;00m _global_forward_pre_hooks):\n\u001b[0;32m-> 1130\u001b[0m     \u001b[39mreturn\u001b[39;00m forward_call(\u001b[39m*\u001b[39;49m\u001b[39minput\u001b[39;49m, \u001b[39m*\u001b[39;49m\u001b[39m*\u001b[39;49mkwargs)\n\u001b[1;32m   1131\u001b[0m \u001b[39m# Do not call functions when jit is used\u001b[39;00m\n\u001b[1;32m   1132\u001b[0m full_backward_hooks, non_full_backward_hooks \u001b[39m=\u001b[39m [], []\n",
      "File \u001b[0;32m~/miniconda3/envs/torch/lib/python3.9/site-packages/compressive_transformer_pytorch/compressive_transformer_pytorch.py:102\u001b[0m, in \u001b[0;36mGRUGating.forward\u001b[0;34m(self, x, **kwargs)\u001b[0m\n\u001b[1;32m    100\u001b[0m \u001b[39mdef\u001b[39;00m \u001b[39mforward\u001b[39m(\u001b[39mself\u001b[39m, x, \u001b[39m*\u001b[39m\u001b[39m*\u001b[39mkwargs):\n\u001b[1;32m    101\u001b[0m     batch, dim \u001b[39m=\u001b[39m x\u001b[39m.\u001b[39mshape[\u001b[39m0\u001b[39m], \u001b[39mself\u001b[39m\u001b[39m.\u001b[39mdim\n\u001b[0;32m--> 102\u001b[0m     out \u001b[39m=\u001b[39m \u001b[39mself\u001b[39;49m\u001b[39m.\u001b[39;49mfn(x, \u001b[39m*\u001b[39;49m\u001b[39m*\u001b[39;49mkwargs)\n\u001b[1;32m    103\u001b[0m     (y, \u001b[39m*\u001b[39mrest) \u001b[39m=\u001b[39m cast_tuple(out)\n\u001b[1;32m    105\u001b[0m     \u001b[39mif\u001b[39;00m \u001b[39mself\u001b[39m\u001b[39m.\u001b[39mmogrify \u001b[39mis\u001b[39;00m \u001b[39mnot\u001b[39;00m \u001b[39mNone\u001b[39;00m:\n",
      "File \u001b[0;32m~/miniconda3/envs/torch/lib/python3.9/site-packages/torch/nn/modules/module.py:1130\u001b[0m, in \u001b[0;36mModule._call_impl\u001b[0;34m(self, *input, **kwargs)\u001b[0m\n\u001b[1;32m   1126\u001b[0m \u001b[39m# If we don't have any hooks, we want to skip the rest of the logic in\u001b[39;00m\n\u001b[1;32m   1127\u001b[0m \u001b[39m# this function, and just call forward.\u001b[39;00m\n\u001b[1;32m   1128\u001b[0m \u001b[39mif\u001b[39;00m \u001b[39mnot\u001b[39;00m (\u001b[39mself\u001b[39m\u001b[39m.\u001b[39m_backward_hooks \u001b[39mor\u001b[39;00m \u001b[39mself\u001b[39m\u001b[39m.\u001b[39m_forward_hooks \u001b[39mor\u001b[39;00m \u001b[39mself\u001b[39m\u001b[39m.\u001b[39m_forward_pre_hooks \u001b[39mor\u001b[39;00m _global_backward_hooks\n\u001b[1;32m   1129\u001b[0m         \u001b[39mor\u001b[39;00m _global_forward_hooks \u001b[39mor\u001b[39;00m _global_forward_pre_hooks):\n\u001b[0;32m-> 1130\u001b[0m     \u001b[39mreturn\u001b[39;00m forward_call(\u001b[39m*\u001b[39;49m\u001b[39minput\u001b[39;49m, \u001b[39m*\u001b[39;49m\u001b[39m*\u001b[39;49mkwargs)\n\u001b[1;32m   1131\u001b[0m \u001b[39m# Do not call functions when jit is used\u001b[39;00m\n\u001b[1;32m   1132\u001b[0m full_backward_hooks, non_full_backward_hooks \u001b[39m=\u001b[39m [], []\n",
      "File \u001b[0;32m~/miniconda3/envs/torch/lib/python3.9/site-packages/compressive_transformer_pytorch/compressive_transformer_pytorch.py:124\u001b[0m, in \u001b[0;36mPreNorm.forward\u001b[0;34m(self, x, **kwargs)\u001b[0m\n\u001b[1;32m    122\u001b[0m \u001b[39mdef\u001b[39;00m \u001b[39mforward\u001b[39m(\u001b[39mself\u001b[39m, x, \u001b[39m*\u001b[39m\u001b[39m*\u001b[39mkwargs):\n\u001b[1;32m    123\u001b[0m     x \u001b[39m=\u001b[39m \u001b[39mself\u001b[39m\u001b[39m.\u001b[39mnorm(x)\n\u001b[0;32m--> 124\u001b[0m     \u001b[39mreturn\u001b[39;00m \u001b[39mself\u001b[39;49m\u001b[39m.\u001b[39;49mfn(x, \u001b[39m*\u001b[39;49m\u001b[39m*\u001b[39;49mkwargs)\n",
      "File \u001b[0;32m~/miniconda3/envs/torch/lib/python3.9/site-packages/torch/nn/modules/module.py:1130\u001b[0m, in \u001b[0;36mModule._call_impl\u001b[0;34m(self, *input, **kwargs)\u001b[0m\n\u001b[1;32m   1126\u001b[0m \u001b[39m# If we don't have any hooks, we want to skip the rest of the logic in\u001b[39;00m\n\u001b[1;32m   1127\u001b[0m \u001b[39m# this function, and just call forward.\u001b[39;00m\n\u001b[1;32m   1128\u001b[0m \u001b[39mif\u001b[39;00m \u001b[39mnot\u001b[39;00m (\u001b[39mself\u001b[39m\u001b[39m.\u001b[39m_backward_hooks \u001b[39mor\u001b[39;00m \u001b[39mself\u001b[39m\u001b[39m.\u001b[39m_forward_hooks \u001b[39mor\u001b[39;00m \u001b[39mself\u001b[39m\u001b[39m.\u001b[39m_forward_pre_hooks \u001b[39mor\u001b[39;00m _global_backward_hooks\n\u001b[1;32m   1129\u001b[0m         \u001b[39mor\u001b[39;00m _global_forward_hooks \u001b[39mor\u001b[39;00m _global_forward_pre_hooks):\n\u001b[0;32m-> 1130\u001b[0m     \u001b[39mreturn\u001b[39;00m forward_call(\u001b[39m*\u001b[39;49m\u001b[39minput\u001b[39;49m, \u001b[39m*\u001b[39;49m\u001b[39m*\u001b[39;49mkwargs)\n\u001b[1;32m   1131\u001b[0m \u001b[39m# Do not call functions when jit is used\u001b[39;00m\n\u001b[1;32m   1132\u001b[0m full_backward_hooks, non_full_backward_hooks \u001b[39m=\u001b[39m [], []\n",
      "File \u001b[0;32m~/miniconda3/envs/torch/lib/python3.9/site-packages/compressive_transformer_pytorch/compressive_transformer_pytorch.py:223\u001b[0m, in \u001b[0;36mSelfAttention.forward\u001b[0;34m(self, x, memories, pos_emb, input_mask, calc_memory, **kwargs)\u001b[0m\n\u001b[1;32m    221\u001b[0m     pos_emb \u001b[39m=\u001b[39m pos_emb[:, \u001b[39m-\u001b[39mkv_len:]\u001b[39m.\u001b[39mtype(q\u001b[39m.\u001b[39mdtype)\n\u001b[1;32m    222\u001b[0m     pos_dots \u001b[39m=\u001b[39m torch\u001b[39m.\u001b[39meinsum(\u001b[39m'\u001b[39m\u001b[39mbhid,hjd->bhij\u001b[39m\u001b[39m'\u001b[39m, q, pos_emb) \u001b[39m*\u001b[39m \u001b[39mself\u001b[39m\u001b[39m.\u001b[39mscale\n\u001b[0;32m--> 223\u001b[0m     pos_dots \u001b[39m=\u001b[39m shift(pos_dots)\n\u001b[1;32m    224\u001b[0m     dots \u001b[39m=\u001b[39m dots \u001b[39m+\u001b[39m pos_dots\n\u001b[1;32m    226\u001b[0m \u001b[39mif\u001b[39;00m input_mask \u001b[39mis\u001b[39;00m \u001b[39mnot\u001b[39;00m \u001b[39mNone\u001b[39;00m:\n",
      "File \u001b[0;32m~/miniconda3/envs/torch/lib/python3.9/site-packages/compressive_transformer_pytorch/compressive_transformer_pytorch.py:62\u001b[0m, in \u001b[0;36mshift\u001b[0;34m(x)\u001b[0m\n\u001b[1;32m     60\u001b[0m x \u001b[39m=\u001b[39m x\u001b[39m.\u001b[39mview(\u001b[39m*\u001b[39m_, \u001b[39m-\u001b[39m\u001b[39m1\u001b[39m)\n\u001b[1;32m     61\u001b[0m zero_pad \u001b[39m=\u001b[39m torch\u001b[39m.\u001b[39mzeros(\u001b[39m*\u001b[39m_, \u001b[39m-\u001b[39mx\u001b[39m.\u001b[39msize(\u001b[39m-\u001b[39m\u001b[39m1\u001b[39m) \u001b[39m%\u001b[39m l, \u001b[39m*\u001b[39m\u001b[39m*\u001b[39mto(x))\n\u001b[0;32m---> 62\u001b[0m shifted \u001b[39m=\u001b[39m torch\u001b[39m.\u001b[39;49mcat([x, zero_pad], \u001b[39m-\u001b[39;49m\u001b[39m1\u001b[39;49m)\u001b[39m.\u001b[39mview(\u001b[39m*\u001b[39m_, \u001b[39m-\u001b[39m\u001b[39m1\u001b[39m, l)\n\u001b[1;32m     63\u001b[0m \u001b[39mreturn\u001b[39;00m shifted[\u001b[39m.\u001b[39m\u001b[39m.\u001b[39m\u001b[39m.\u001b[39m, :i, i \u001b[39m-\u001b[39m \u001b[39m1\u001b[39m:]\n",
      "\u001b[0;31mRuntimeError\u001b[0m: CUDA out of memory. Tried to allocate 1.00 GiB (GPU 0; 3.82 GiB total capacity; 2.36 GiB already allocated; 582.06 MiB free; 2.38 GiB reserved in total by PyTorch) If reserved memory is >> allocated memory try setting max_split_size_mb to avoid fragmentation.  See documentation for Memory Management and PYTORCH_CUDA_ALLOC_CONF"
     ]
    }
   ],
   "source": [
    "model_regr.generate(torch.ones(16, 1024).to(torch.int64).cuda(), 10)"
   ]
  },
  {
   "cell_type": "code",
   "execution_count": null,
   "metadata": {},
   "outputs": [],
   "source": [
    "for file in np.load(\"dataset_bach_tokenized.npz\"):\n",
    "\tprint(file)\n",
    "\tmodel_regr.generate(torch.ones(1, 1).to(torch.int64).cuda(), 10)\n",
    "\tprint()"
   ]
  },
  {
   "cell_type": "code",
   "execution_count": 26,
   "metadata": {},
   "outputs": [
    {
     "name": "stdout",
     "output_type": "stream",
     "text": [
      "opt step\n",
      "opt step\n"
     ]
    }
   ],
   "source": [
    "for loss, aux_loss, _ in model(inputs.to(torch.int64), return_loss = True):\n",
    "    print(\"opt step\")\n",
    "    (loss.sum() + aux_loss.sum()).backward()\n",
    "    # optimizer step and zero grad\n",
    "\n",
    "# ... after much training ...\n",
    "\n",
    "# generation is also greatly simplified and automated away\n",
    "# just pass in the prime, which can be 1 start token or any length\n",
    "# all is taken care of for you\n",
    "\n",
    "prime = torch.ones(1, 1).cuda().to(torch.int64)  # assume 1 is start token\n",
    "sample = model.generate(prime, 100)"
   ]
  },
  {
   "cell_type": "code",
   "execution_count": null,
   "metadata": {},
   "outputs": [],
   "source": [
    "sample"
   ]
  }
 ],
 "metadata": {
  "kernelspec": {
   "display_name": "Python 3.9.0 ('torch')",
   "language": "python",
   "name": "python3"
  },
  "language_info": {
   "codemirror_mode": {
    "name": "ipython",
    "version": 3
   },
   "file_extension": ".py",
   "mimetype": "text/x-python",
   "name": "python",
   "nbconvert_exporter": "python",
   "pygments_lexer": "ipython3",
   "version": "3.9.12"
  },
  "orig_nbformat": 4,
  "vscode": {
   "interpreter": {
    "hash": "55d853517c1a7aa992c78b9209b384a18e46b6b84a2682acd8439b1a29fdf890"
   }
  }
 },
 "nbformat": 4,
 "nbformat_minor": 2
}
